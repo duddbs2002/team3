{
 "cells": [
  {
   "cell_type": "markdown",
   "metadata": {},
   "source": [
    "* 기간: 2024년 8월 12일 ~ 8월 22일 (총 7일)\n",
    "* 이름: 권병균, 김영윤, 김유리\n",
    "* 정의:\n",
    "* 목적:\n",
    "* 범위:"
   ]
  },
  {
   "cell_type": "markdown",
   "metadata": {},
   "source": []
  },
  {
   "cell_type": "markdown",
   "metadata": {},
   "source": []
  },
  {
   "cell_type": "markdown",
   "metadata": {},
   "source": [
    "## [할 일 목록]"
   ]
  },
  {
   "cell_type": "markdown",
   "metadata": {},
   "source": [
    "### [1일차]"
   ]
  },
  {
   "cell_type": "markdown",
   "metadata": {},
   "source": [
    "#### 1. 프로젝트 과제(주제) 1차 선정"
   ]
  },
  {
   "cell_type": "markdown",
   "metadata": {},
   "source": [
    "(KBO) 한화이글스와 리그의 연도별 주요 지표간의 비교분석을 통한 취약점 분석"
   ]
  },
  {
   "cell_type": "markdown",
   "metadata": {},
   "source": [
    "#### 2. 과제와 관련된 데이터 제공 사이트 탐색"
   ]
  },
  {
   "cell_type": "markdown",
   "metadata": {},
   "source": [
    "**KBO 공식 홈페이지**:\n",
    "https://www.koreabaseball.com/Record/TeamRank/TeamRank.aspx"
   ]
  },
  {
   "cell_type": "markdown",
   "metadata": {},
   "source": [
    "**스탯티즈**:       \n",
    "https://statiz.sporki.com/team/?m=team&t_code=7002&year=2024"
   ]
  },
  {
   "cell_type": "markdown",
   "metadata": {},
   "source": [
    "#### 3. 과제와 관련된 논문 탐색"
   ]
  },
  {
   "cell_type": "markdown",
   "metadata": {},
   "source": [
    "한국프로야구에서의 투수평가지표(이장택): https://scienceon.kisti.re.kr/srch/selectPORSrchArticle.do?cn=JAKO201417048539027&SITE=CLICK"
   ]
  },
  {
   "cell_type": "markdown",
   "metadata": {},
   "source": [
    "한국프로야구기록의 세이버매트릭스 분석 결과 비교 (양현성): https://www.riss.kr/search/detail/DetailView.do?p_mat_type=be54d9b8bc7cdb09&control_no=4353b4490b27fc06ffe0bdc3ef48d419"
   ]
  },
  {
   "cell_type": "markdown",
   "metadata": {},
   "source": [
    "#### 4. 과제와 관련된 기사 탐색"
   ]
  },
  {
   "cell_type": "markdown",
   "metadata": {},
   "source": [
    "류현진의 복귀가 LG에 미치는 영향…\"최다승 도전 포기합니다\"(중앙일보, 배영은기자, 2024-02-22)\n",
    "https://www.joongang.co.kr/article/25230357"
   ]
  },
  {
   "cell_type": "markdown",
   "metadata": {},
   "source": [
    "Pitching Excellence: The Role of Ace in Baseball(Danial Anderson, 2024-01-22)\n",
    "https://baseballpropicks.com/ace-in-baseball/"
   ]
  },
  {
   "cell_type": "markdown",
   "metadata": {},
   "source": [
    "최하위인데 \"나는 행복합니다\"...한화, KBO 한 시즌 최다 매진 타이기록(조선일보, 김명일 기자, 2024-07-22)      \n",
    "https://www.chosun.com/national/national_general/2024/07/22/TK57TEODBFCRNIDJ3OPDF7XJMY/"
   ]
  },
  {
   "cell_type": "markdown",
   "metadata": {},
   "source": [
    "앞으로 신기록 세울 일만”…한화 이글스, 한 시즌 최다 매진 타이(대전일보, 김지현 기자, 2024-07-21)     \n",
    "https://www.daejonilbo.com/news/articleView.html?idxno=2144528"
   ]
  },
  {
   "cell_type": "markdown",
   "metadata": {},
   "source": [
    "KIA가 KBO 원정 관중 동원 1위 아니라고? [아하 스포츠](한겨래, 김양희 기자, 2024-08-12)       \n",
    "https://m.sports.naver.com/kbaseball/article/028/0002702415"
   ]
  },
  {
   "cell_type": "markdown",
   "metadata": {},
   "source": [
    "#### 5. 관련 프로젝트"
   ]
  },
  {
   "cell_type": "markdown",
   "metadata": {},
   "source": [
    "백인천 프로젝트: 4할 타자 미스터리에 집단 지성이 도전하다\n",
    "https://books.google.co.kr/books?id=n4dsEAAAQBAJ&printsec=frontcover&redir_esc=y#v=onepage&q&f=false"
   ]
  },
  {
   "cell_type": "markdown",
   "metadata": {},
   "source": [
    "#### 6. 과제와 관련된 용어 정리"
   ]
  },
  {
   "cell_type": "markdown",
   "metadata": {},
   "source": [
    "### [2일차]"
   ]
  },
  {
   "cell_type": "markdown",
   "metadata": {},
   "source": [
    "#### 1. KBO & Statiz & 구글 트렌드 데이터 수집"
   ]
  },
  {
   "cell_type": "markdown",
   "metadata": {},
   "source": [
    "* 관중 수 데이터\n",
    "* 해외 메이저리그 이적 후 복귀 선수 리스트\n",
    "* 2001~ 2024 팀 순위 데이터"
   ]
  },
  {
   "cell_type": "markdown",
   "metadata": {},
   "source": [
    "#### 2. 프로젝트 과제(주제) 2차 선정"
   ]
  },
  {
   "cell_type": "markdown",
   "metadata": {},
   "source": [
    "* 후보 1. (KBO) 우리팀 간판스타의 복귀, 나도 다시 야구장으로 복귀         \n",
    "* 후보 2. 스타플레이어의 복귀와 순위, 관중동원의 상관관계"
   ]
  },
  {
   "cell_type": "markdown",
   "metadata": {},
   "source": [
    "#### 3. 데이터 수집기간 팀원들 역할 분담"
   ]
  },
  {
   "cell_type": "markdown",
   "metadata": {},
   "source": [
    "* 김영윤 - GitHub와 모듈 관리, 복귀 투수 지표 데이터 스크래핑\n",
    "* 김유리 - 관중 수 데이터 스크래핑,  복귀 타자 지표 데이터 스크래핑, 팀 순위 데이터 스크래핑\n",
    "* 권병균 - 복귀 선수 리스트 확인, 관련 기사& 논문 자료 수집"
   ]
  },
  {
   "cell_type": "markdown",
   "metadata": {},
   "source": [
    "### [3일차]"
   ]
  },
  {
   "cell_type": "markdown",
   "metadata": {},
   "source": [
    "#### 1. KBO & Statiz & 구글 트렌드 데이터 수집"
   ]
  },
  {
   "cell_type": "markdown",
   "metadata": {},
   "source": [
    "* 관중 수 데이터\n",
    "* 복귀 선수 수상경력 Data scraping (리그MVP 선정 횟수, 올스타전 출전 횟수)\n",
    "* 복귀 선수 기사량 언급량 Data scraping (구글 트렌드)"
   ]
  },
  {
   "cell_type": "markdown",
   "metadata": {},
   "source": [
    "#### 2. 프로젝트 과제(주제) 2차 선정"
   ]
  },
  {
   "cell_type": "markdown",
   "metadata": {},
   "source": [
    "* 후보 1. (KBO) 우리팀 간판스타의 복귀, 나도 다시 야구장으로 복귀         \n",
    "* 후보 2. 스타플레이어의 복귀와 순위, 관중동원의 상관관계"
   ]
  },
  {
   "cell_type": "markdown",
   "metadata": {},
   "source": [
    "#### 3. 데이터 수집기간 팀원들 역할 분담"
   ]
  },
  {
   "cell_type": "markdown",
   "metadata": {},
   "source": [
    "#### 공통\n",
    "\n",
    "복귀 선수 데이터 1차 필터링(수상경력, 기사언급량 기준)"
   ]
  },
  {
   "cell_type": "markdown",
   "metadata": {},
   "source": [
    "#### 김영윤 \n",
    "\n",
    "복귀 투수 상세 지표 데이터 스크래핑"
   ]
  },
  {
   "cell_type": "markdown",
   "metadata": {},
   "source": [
    "#### 김유리 \n",
    "\n",
    "**날짜** 2024-08-14\n",
    "\n",
    "**작업 내용:** \n",
    "\n",
    "1. 역대 골든 글러브 수상자\n",
    "2. MVP 수상자 데이터 추출\n",
    "3. 해외진출 인원\n",
    "4. 골든 글러브 수상자 데이터 조인\n",
    "5. 타자 추출 working code 생성\n",
    "\n",
    "**다음 작업:** 타자 추출 working code를 이용해 데이터 추출\n",
    "\n",
    "\n",
    "**이슈/리스크:** 1. beautiful soup css 데이터 전달할 때 dictation을 사용-> header가 dictation의 key 값으로 생성되었다. header 데이터를 따로 가져와 해결"
   ]
  },
  {
   "cell_type": "markdown",
   "metadata": {},
   "source": [
    "#### 권병균 \n",
    "\n",
    "팀 순위 데이터 스크래핑, 복귀 선수 list-up, 구글트렌드 기사 언급량 스크래핑, 관련 논문&도서 등 수집"
   ]
  },
  {
   "cell_type": "markdown",
   "metadata": {},
   "source": [
    "### [4일차]"
   ]
  },
  {
   "cell_type": "markdown",
   "metadata": {},
   "source": [
    "### 데이터 수집기간 팀원별 작업 내용"
   ]
  },
  {
   "cell_type": "markdown",
   "metadata": {},
   "source": [
    "#### 김영윤\n",
    "\n",
    "**날짜** 2024-08-15\n",
    "\n",
    "**작업 내용:** \n",
    "\n"
   ]
  },
  {
   "cell_type": "markdown",
   "metadata": {},
   "source": [
    "#### 김유리\n",
    "\n",
    "**날짜** 2024-08-15\n",
    "\n",
    "**작업 내용:** \n",
    "\n",
    "1. 타자 추출 working code를 이용해 데이터추출 -완료-\n",
    "\n",
    "2. 년별 관객수 데이터 수집 -완료- \n",
    " \n",
    "3. 년별 팀 성적 데이터 수집 -완료-\n",
    " \n",
    "4. 해외 진출 타자 + 골든 글러브 수상자 + MVP 수상자+기사 언급량 데이터 병합\n",
    "\n",
    "**다음 작업:** \n",
    "\n",
    "**이슈/리스크:** 1, map을 사용하는데 익숙하지 않아 오류 발생-> merge 방식으로 데이터 프레임 두 개를 join"
   ]
  },
  {
   "cell_type": "markdown",
   "metadata": {},
   "source": [
    "#### 권병균\n",
    "\n",
    "**날짜** 2024-08-15\n",
    "\n",
    "**작업 내용:** \n",
    "\n",
    "1. 관련 기사& 논문 자료 수집\n",
    "\n",
    "2. 선수 복귀년도 연봉 데이터 스크래핑"
   ]
  }
 ],
 "metadata": {
  "language_info": {
   "name": "python"
  }
 },
 "nbformat": 4,
 "nbformat_minor": 2
}
