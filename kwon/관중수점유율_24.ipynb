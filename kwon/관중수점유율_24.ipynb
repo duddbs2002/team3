{
 "cells": [
  {
   "cell_type": "code",
   "execution_count": 1,
   "metadata": {},
   "outputs": [],
   "source": [
    "import os\n",
    "import pandas as pd\n",
    "import seaborn as sns\n",
    "import matplotlib.pyplot as plt\n",
    "import matplotlib.font_manager as fm\n",
    "import matplotlib.ticker as ticker"
   ]
  },
  {
   "cell_type": "code",
   "execution_count": 2,
   "metadata": {},
   "outputs": [],
   "source": [
    "#글씨 지정\n",
    "plt.rcParams['font.family'] = 'Malgun Gothic'"
   ]
  },
  {
   "cell_type": "code",
   "execution_count": 3,
   "metadata": {},
   "outputs": [
    {
     "data": {
      "text/html": [
       "<div>\n",
       "<style scoped>\n",
       "    .dataframe tbody tr th:only-of-type {\n",
       "        vertical-align: middle;\n",
       "    }\n",
       "\n",
       "    .dataframe tbody tr th {\n",
       "        vertical-align: top;\n",
       "    }\n",
       "\n",
       "    .dataframe thead th {\n",
       "        text-align: right;\n",
       "    }\n",
       "</style>\n",
       "<table border=\"1\" class=\"dataframe\">\n",
       "  <thead>\n",
       "    <tr style=\"text-align: right;\">\n",
       "      <th></th>\n",
       "      <th>날짜</th>\n",
       "      <th>요일</th>\n",
       "      <th>홈</th>\n",
       "      <th>방문</th>\n",
       "      <th>구장_x</th>\n",
       "      <th>관중수</th>\n",
       "      <th>지역</th>\n",
       "      <th>구장_y</th>\n",
       "      <th>수용인원(KBO)</th>\n",
       "      <th>좌석수</th>\n",
       "      <th>점유율</th>\n",
       "    </tr>\n",
       "  </thead>\n",
       "  <tbody>\n",
       "    <tr>\n",
       "      <th>0</th>\n",
       "      <td>2024/03/23</td>\n",
       "      <td>토</td>\n",
       "      <td>LG</td>\n",
       "      <td>한화</td>\n",
       "      <td>잠실</td>\n",
       "      <td>23750</td>\n",
       "      <td>잠실</td>\n",
       "      <td>서울종합운동장 야구장</td>\n",
       "      <td>25,553</td>\n",
       "      <td>23750</td>\n",
       "      <td>100.0</td>\n",
       "    </tr>\n",
       "    <tr>\n",
       "      <th>1</th>\n",
       "      <td>2024/03/23</td>\n",
       "      <td>토</td>\n",
       "      <td>SSG</td>\n",
       "      <td>롯데</td>\n",
       "      <td>문학</td>\n",
       "      <td>23000</td>\n",
       "      <td>문학</td>\n",
       "      <td>인천 SSG 랜더스필드</td>\n",
       "      <td>23,000</td>\n",
       "      <td>23000</td>\n",
       "      <td>100.0</td>\n",
       "    </tr>\n",
       "    <tr>\n",
       "      <th>2</th>\n",
       "      <td>2024/03/23</td>\n",
       "      <td>토</td>\n",
       "      <td>NC</td>\n",
       "      <td>두산</td>\n",
       "      <td>창원</td>\n",
       "      <td>17891</td>\n",
       "      <td>창원</td>\n",
       "      <td>창원NC파크</td>\n",
       "      <td>22,112</td>\n",
       "      <td>17891</td>\n",
       "      <td>100.0</td>\n",
       "    </tr>\n",
       "    <tr>\n",
       "      <th>3</th>\n",
       "      <td>2024/03/23</td>\n",
       "      <td>토</td>\n",
       "      <td>KT</td>\n",
       "      <td>삼성</td>\n",
       "      <td>수원</td>\n",
       "      <td>18700</td>\n",
       "      <td>수원</td>\n",
       "      <td>케이티위즈파크</td>\n",
       "      <td>20,000</td>\n",
       "      <td>18700</td>\n",
       "      <td>100.0</td>\n",
       "    </tr>\n",
       "    <tr>\n",
       "      <th>4</th>\n",
       "      <td>2024/03/23</td>\n",
       "      <td>토</td>\n",
       "      <td>KIA</td>\n",
       "      <td>키움</td>\n",
       "      <td>광주</td>\n",
       "      <td>20500</td>\n",
       "      <td>광주</td>\n",
       "      <td>광주-KIA 챔피언스 필드</td>\n",
       "      <td>20,500</td>\n",
       "      <td>20500</td>\n",
       "      <td>100.0</td>\n",
       "    </tr>\n",
       "  </tbody>\n",
       "</table>\n",
       "</div>"
      ],
      "text/plain": [
       "           날짜 요일    홈  방문 구장_x    관중수  지역            구장_y 수용인원(KBO)    좌석수  \\\n",
       "0  2024/03/23  토   LG  한화   잠실  23750  잠실     서울종합운동장 야구장    25,553  23750   \n",
       "1  2024/03/23  토  SSG  롯데   문학  23000  문학    인천 SSG 랜더스필드    23,000  23000   \n",
       "2  2024/03/23  토   NC  두산   창원  17891  창원          창원NC파크    22,112  17891   \n",
       "3  2024/03/23  토   KT  삼성   수원  18700  수원         케이티위즈파크    20,000  18700   \n",
       "4  2024/03/23  토  KIA  키움   광주  20500  광주  광주-KIA 챔피언스 필드    20,500  20500   \n",
       "\n",
       "     점유율  \n",
       "0  100.0  \n",
       "1  100.0  \n",
       "2  100.0  \n",
       "3  100.0  \n",
       "4  100.0  "
      ]
     },
     "execution_count": 3,
     "metadata": {},
     "output_type": "execute_result"
    }
   ],
   "source": [
    "dc24 = pd.read_csv(\"dc24_ratio.csv\")\n",
    "dc24.head()\n",
    "# dc24.info()"
   ]
  },
  {
   "cell_type": "code",
   "execution_count": 4,
   "metadata": {},
   "outputs": [
    {
     "name": "stdout",
     "output_type": "stream",
     "text": [
      "점유율이 100인 행의 갯수: 160\n"
     ]
    }
   ],
   "source": [
    "# 점유율이 100인 게임수\n",
    "filtered_dc24 = dc24[dc24['점유율'] == 100]\n",
    "count_100 = len(filtered_dc24)\n",
    "\n",
    "# 결과 출력\n",
    "print(f\"점유율이 100인 행의 갯수: {count_100}\")"
   ]
  },
  {
   "cell_type": "code",
   "execution_count": 8,
   "metadata": {},
   "outputs": [
    {
     "data": {
      "text/html": [
       "<div>\n",
       "<style scoped>\n",
       "    .dataframe tbody tr th:only-of-type {\n",
       "        vertical-align: middle;\n",
       "    }\n",
       "\n",
       "    .dataframe tbody tr th {\n",
       "        vertical-align: top;\n",
       "    }\n",
       "\n",
       "    .dataframe thead th {\n",
       "        text-align: right;\n",
       "    }\n",
       "</style>\n",
       "<table border=\"1\" class=\"dataframe\">\n",
       "  <thead>\n",
       "    <tr style=\"text-align: right;\">\n",
       "      <th></th>\n",
       "      <th>날짜</th>\n",
       "      <th>요일</th>\n",
       "      <th>홈</th>\n",
       "      <th>방문</th>\n",
       "      <th>구장_x</th>\n",
       "      <th>관중수</th>\n",
       "      <th>지역</th>\n",
       "      <th>구장_y</th>\n",
       "      <th>수용인원(KBO)</th>\n",
       "      <th>좌석수</th>\n",
       "      <th>점유율</th>\n",
       "    </tr>\n",
       "  </thead>\n",
       "  <tbody>\n",
       "    <tr>\n",
       "      <th>23</th>\n",
       "      <td>2024/03/29</td>\n",
       "      <td>금</td>\n",
       "      <td>한화</td>\n",
       "      <td>KT</td>\n",
       "      <td>대전</td>\n",
       "      <td>12000</td>\n",
       "      <td>대전</td>\n",
       "      <td>한화생명 이글스 파크</td>\n",
       "      <td>13,000</td>\n",
       "      <td>12000</td>\n",
       "      <td>100.0</td>\n",
       "    </tr>\n",
       "    <tr>\n",
       "      <th>28</th>\n",
       "      <td>2024/03/30</td>\n",
       "      <td>토</td>\n",
       "      <td>한화</td>\n",
       "      <td>KT</td>\n",
       "      <td>대전</td>\n",
       "      <td>12000</td>\n",
       "      <td>대전</td>\n",
       "      <td>한화생명 이글스 파크</td>\n",
       "      <td>13,000</td>\n",
       "      <td>12000</td>\n",
       "      <td>100.0</td>\n",
       "    </tr>\n",
       "    <tr>\n",
       "      <th>33</th>\n",
       "      <td>2024/03/31</td>\n",
       "      <td>일</td>\n",
       "      <td>한화</td>\n",
       "      <td>KT</td>\n",
       "      <td>대전</td>\n",
       "      <td>12000</td>\n",
       "      <td>대전</td>\n",
       "      <td>한화생명 이글스 파크</td>\n",
       "      <td>13,000</td>\n",
       "      <td>12000</td>\n",
       "      <td>100.0</td>\n",
       "    </tr>\n",
       "    <tr>\n",
       "      <th>38</th>\n",
       "      <td>2024/04/02</td>\n",
       "      <td>화</td>\n",
       "      <td>한화</td>\n",
       "      <td>롯데</td>\n",
       "      <td>대전</td>\n",
       "      <td>12000</td>\n",
       "      <td>대전</td>\n",
       "      <td>한화생명 이글스 파크</td>\n",
       "      <td>13,000</td>\n",
       "      <td>12000</td>\n",
       "      <td>100.0</td>\n",
       "    </tr>\n",
       "    <tr>\n",
       "      <th>46</th>\n",
       "      <td>2024/04/04</td>\n",
       "      <td>목</td>\n",
       "      <td>한화</td>\n",
       "      <td>롯데</td>\n",
       "      <td>대전</td>\n",
       "      <td>12000</td>\n",
       "      <td>대전</td>\n",
       "      <td>한화생명 이글스 파크</td>\n",
       "      <td>13,000</td>\n",
       "      <td>12000</td>\n",
       "      <td>100.0</td>\n",
       "    </tr>\n",
       "  </tbody>\n",
       "</table>\n",
       "</div>"
      ],
      "text/plain": [
       "            날짜 요일   홈  방문 구장_x    관중수  지역         구장_y 수용인원(KBO)    좌석수    점유율\n",
       "23  2024/03/29  금  한화  KT   대전  12000  대전  한화생명 이글스 파크    13,000  12000  100.0\n",
       "28  2024/03/30  토  한화  KT   대전  12000  대전  한화생명 이글스 파크    13,000  12000  100.0\n",
       "33  2024/03/31  일  한화  KT   대전  12000  대전  한화생명 이글스 파크    13,000  12000  100.0\n",
       "38  2024/04/02  화  한화  롯데   대전  12000  대전  한화생명 이글스 파크    13,000  12000  100.0\n",
       "46  2024/04/04  목  한화  롯데   대전  12000  대전  한화생명 이글스 파크    13,000  12000  100.0"
      ]
     },
     "execution_count": 8,
     "metadata": {},
     "output_type": "execute_result"
    }
   ],
   "source": [
    "# # 구장 관중점유율\n",
    "# 구장 ='대전'\n",
    "# hdc24 = dc24[dc24['구장_x'] == 구장]\n",
    "\n",
    "# # 결과 출력\n",
    "# hdc24.head()"
   ]
  },
  {
   "cell_type": "code",
   "execution_count": 11,
   "metadata": {},
   "outputs": [
    {
     "ename": "NameError",
     "evalue": "name 'crowd_numbers' is not defined",
     "output_type": "error",
     "traceback": [
      "\u001b[1;31m---------------------------------------------------------------------------\u001b[0m",
      "\u001b[1;31mNameError\u001b[0m                                 Traceback (most recent call last)",
      "Cell \u001b[1;32mIn[11], line 1\u001b[0m\n\u001b[1;32m----> 1\u001b[0m average_crowd \u001b[38;5;241m=\u001b[39m \u001b[38;5;28msum\u001b[39m(\u001b[43mcrowd_numbers\u001b[49m) \u001b[38;5;241m/\u001b[39m \u001b[38;5;28mlen\u001b[39m(crowd_numbers)\n\u001b[0;32m      3\u001b[0m \u001b[38;5;28mprint\u001b[39m(\u001b[38;5;124mf\u001b[39m\u001b[38;5;124m\"\u001b[39m\u001b[38;5;124m관중수의 평균은 \u001b[39m\u001b[38;5;132;01m{\u001b[39;00maverage_crowd\u001b[38;5;132;01m}\u001b[39;00m\u001b[38;5;124m명입니다.\u001b[39m\u001b[38;5;124m\"\u001b[39m)\n",
      "\u001b[1;31mNameError\u001b[0m: name 'crowd_numbers' is not defined"
     ]
    }
   ],
   "source": [
    "average_crowd = sum(crowd_numbers) / len(crowd_numbers)\n",
    "\n",
    "print(f\"관중수의 평균은 {average_crowd}명입니다.\")"
   ]
  },
  {
   "cell_type": "code",
   "execution_count": null,
   "metadata": {},
   "outputs": [],
   "source": []
  },
  {
   "cell_type": "code",
   "execution_count": null,
   "metadata": {},
   "outputs": [
    {
     "name": "stdout",
     "output_type": "stream",
     "text": [
      "   구장_x         점유율\n",
      "0    고척   65.805357\n",
      "1    광주   84.142262\n",
      "2    대구   73.353743\n",
      "3    대전   95.742251\n",
      "4    문학   68.002699\n",
      "5    사직   75.412163\n",
      "6    수원   63.256198\n",
      "7    울산   75.053902\n",
      "8    잠실   77.582975\n",
      "9    창원   59.209058\n",
      "10   청주  100.000000\n"
     ]
    }
   ],
   "source": [
    "# 구장별 관중점유율\n",
    "avg_occupancy_24 = dc24.groupby('구장_x')['점유율'].mean().reset_index()\n",
    "\n",
    "print(avg_occupancy_24)"
   ]
  },
  {
   "cell_type": "code",
   "execution_count": null,
   "metadata": {},
   "outputs": [
    {
     "data": {
      "image/png": "[encoded data removed]",
      "text/plain": [
       "<Figure size 1000x600 with 1 Axes>"
      ]
     },
     "metadata": {},
     "output_type": "display_data"
    }
   ],
   "source": [
    "plt.figure(figsize=(10, 6))  # 그래프의 크기 설정\n",
    "plt.bar(avg_occupancy_24['구장_x'], avg_occupancy_24['점유율'], color='skyblue', edgecolor='black')\n",
    "plt.xlabel('구장_x')  # X축 레이블\n",
    "plt.ylabel('점유율')  # Y축 레이블\n",
    "plt.title('구장별 점유율 평균')  # 그래프 제목\n",
    "plt.xticks(rotation=45)  # X축 레이블 회전 (긴 레이블을 보기 좋게 함)\n",
    "plt.grid(axis='y', linestyle='--', alpha=0.7)  # Y축에 그리드 추가\n",
    "\n",
    "# 바 차트 출력\n",
    "plt.show()"
   ]
  }
 ],
 "metadata": {
  "kernelspec": {
   "display_name": "baseball_project",
   "language": "python",
   "name": "python3"
  },
  "language_info": {
   "codemirror_mode": {
    "name": "ipython",
    "version": 3
   },
   "file_extension": ".py",
   "mimetype": "text/x-python",
   "name": "python",
   "nbconvert_exporter": "python",
   "pygments_lexer": "ipython3",
   "version": "3.12.4"
  }
 },
 "nbformat": 4,
 "nbformat_minor": 2
}
